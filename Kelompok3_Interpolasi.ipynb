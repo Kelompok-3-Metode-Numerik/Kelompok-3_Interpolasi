{
 "cells": [
  {
   "cell_type": "markdown",
   "metadata": {
    "id": "8MVXZIuufX19"
   },
   "source": [
    "**Lagrange**"
   ]
  },
  {
   "cell_type": "code",
   "execution_count": 3,
   "metadata": {
    "colab": {
     "base_uri": "https://localhost:8080/"
    },
    "id": "mYKkaXr9hzXw",
    "outputId": "bb0f21e7-7564-42bc-c9d3-6b87cf68d291"
   },
   "outputs": [
    {
     "name": "stdout",
     "output_type": "stream",
     "text": [
      "Enter number of data points: 2\n",
      "Enter data for x and y: \n",
      "x[0]=1\n",
      "y[0]=2\n",
      "x[1]=2\n",
      "y[1]=4\n",
      "Enter interpolation point: 3\n",
      "Interpolated value at 3.000 is 6.000.\n"
     ]
    }
   ],
   "source": [
    "# Lagrange Interpolation\n",
    "\n",
    "\n",
    "#mengimport library numpy alias np\n",
    "import numpy as np\n",
    "\n",
    "#menginput jumlah titik yang diketahui\n",
    "n = int(input('Enter number of data points: '))\n",
    "\n",
    "#membuat matriks nxn\n",
    "#x untuk koefisien\n",
    "#y untuk hasil\n",
    "x = np.zeros((n))\n",
    "y = np.zeros((n))\n",
    "\n",
    "#memasukan koefisien dan hasil\n",
    "# Reading data points\n",
    "print('Enter data for x and y: ')\n",
    "for i in range(n):\n",
    "    x[i] = float(input( 'x['+str(i)+']='))\n",
    "    y[i] = float(input( 'y['+str(i)+']='))\n",
    "\n",
    "#mencari titik yang dicari\n",
    "xp = float(input('Enter interpolation point: '))\n",
    "\n",
    "# Set value awal yp adalah 0\n",
    "yp = 0\n",
    "\n",
    "# Implementasikan\n",
    "for i in range(n):\n",
    "    \n",
    "    p = 1\n",
    "    \n",
    "    for j in range(n):\n",
    "        if i != j:\n",
    "            p = p * (xp - x[j])/(x[i] - x[j])\n",
    "    \n",
    "    yp = yp + p * y[i]    \n",
    "\n",
    "# Mengeluarkan output\n",
    "print('Interpolated value at %.3f is %.3f.' % (xp, yp))"
   ]
  },
  {
   "cell_type": "markdown",
   "metadata": {
    "id": "Sg4D9WCcfVxi"
   },
   "source": [
    "**Polinom Newton**\n",
    "\n"
   ]
  },
  {
   "cell_type": "code",
   "execution_count": 4,
   "metadata": {
    "colab": {
     "base_uri": "https://localhost:8080/"
    },
    "id": "JX2HLuYoiax7",
    "outputId": "e8ef3093-fd69-4bc4-e960-cb5d8f16a626"
   },
   "outputs": [
    {
     "name": "stdout",
     "output_type": "stream",
     "text": [
      "Enter number of data points: 4\n",
      "Enter data for x and y: \n",
      "x[0]=8\n",
      "y[0]=2.079942\n",
      "x[1]=9\n",
      "y[1]=2.197225\n",
      "x[2]=9.5\n",
      "y[2]=2.251292\n",
      "x[3]=11\n",
      "y[3]=2.39785\n",
      "\n",
      "FORWARD DIFFERENCE TABLE\n",
      "\n",
      "8.000000\t\t2.079942\t\t0.117283\t\t-0.063216\t\t0.155707\n",
      "9.000000\t\t2.197225\t\t0.054067\t\t0.092491\n",
      "9.500000\t\t2.251292\t\t0.146558\n",
      "11.000000\t\t2.397850\n"
     ]
    }
   ],
   "source": [
    "import numpy as np\n",
    "# Memasukan berapa banyak titik yang diketahui\n",
    "n = int(input('Enter number of data points: '))\n",
    "\n",
    "#membuat array nxn\n",
    "x = np.zeros((n))\n",
    "y = np.zeros((n,n))\n",
    "\n",
    "\n",
    "# Membaca data\n",
    "print('Enter data for x and y: ')\n",
    "for i in range(n):\n",
    "    x[i] = float(input( 'x['+str(i)+']='))\n",
    "    y[i][0] = float(input( 'y['+str(i)+']='))\n",
    "    \n",
    "# Membuat tabel\n",
    "for i in range(1,n):\n",
    "    for j in range(0,n-i):\n",
    "        y[j][i] = (y[j+1][i-1] - y[j][i-1])\n",
    "\n",
    "        \n",
    "print('\\nFORWARD DIFFERENCE TABLE\\n');\n",
    "\n",
    "for i in range(0,n):\n",
    "    print('%f' %(x[i]), end='')\n",
    "    for j in range(0, n-i):\n",
    "        print('\\t\\t%f' %(y[i][j]), end='')\n",
    "    print()"
   ]
  },
  {
   "cell_type": "code",
   "execution_count": null,
   "metadata": {},
   "outputs": [],
   "source": []
  }
 ],
 "metadata": {
  "colab": {
   "provenance": []
  },
  "kernelspec": {
   "display_name": "Python 3 (ipykernel)",
   "language": "python",
   "name": "python3"
  },
  "language_info": {
   "codemirror_mode": {
    "name": "ipython",
    "version": 3
   },
   "file_extension": ".py",
   "mimetype": "text/x-python",
   "name": "python",
   "nbconvert_exporter": "python",
   "pygments_lexer": "ipython3",
   "version": "3.9.13"
  }
 },
 "nbformat": 4,
 "nbformat_minor": 1
}
